{
 "cells": [
  {
   "cell_type": "markdown",
   "metadata": {},
   "source": [
    "# Image data preprocessing"
   ]
  },
  {
   "cell_type": "markdown",
   "metadata": {},
   "source": [
    "## Install dependencies"
   ]
  },
  {
   "cell_type": "code",
   "execution_count": null,
   "metadata": {},
   "outputs": [],
   "source": [
    "%%capture\n",
    "!pip3 install --upgrade https://storage.googleapis.com/ml-pipeline/release/0.1.12/kfp.tar.gz"
   ]
  },
  {
   "cell_type": "markdown",
   "metadata": {},
   "source": [
    "## Test dataset\n",
    "\n",
    "For this example we use a [sample CSV](https://storage.googleapis.com/kf-pipeline-contrib-public/ai-hub-assets/shared-data/covtype/train.csv) data file."
   ]
  },
  {
   "cell_type": "code",
   "execution_count": 1,
   "metadata": {},
   "outputs": [
    {
     "name": "stdout",
     "output_type": "stream",
     "text": [
      "The first 3 lines of the sample CSV file:\n",
      "a,b,c,d,e,f,g,h,i,j,k,l,m,n,o,p,q,r,s,t,u,v,w,x,y,z,a1,a2,a3,a4,a5,a6,a7,a8,a9,a10,a11,a12,a13,a14,a15,a16,a17,a18,a19,a20,a21,a22,a23,a24,a25,a26,a27,a28,label\n",
      "2596,51,3,258,0,510,221,232,148,6279,1,0,0,0,0,0,0,0,0,0,0,0,0,0,0,0,0,0,0,0,0,0,0,0,0,0,0,0,0,0,0,0,1,0,0,0,0,0,0,0,0,0,0,0,5\n",
      "2590,56,2,212,-6,390,220,235,151,6225,1,0,0,0,0,0,0,0,0,0,0,0,0,0,0,0,0,0,0,0,0,0,0,0,0,0,0,0,0,0,0,0,1,0,0,0,0,0,0,0,0,0,0,0,5\n"
     ]
    }
   ],
   "source": [
    "print('The first 3 lines of the sample CSV file:')\n",
    "!gsutil cat gs://kf-pipeline-contrib-public/release-0.1.1/kfp-components/data_converter/csv_libsvm/data/test.csv | head -n 3"
   ]
  },
  {
   "cell_type": "markdown",
   "metadata": {},
   "source": [
    "## Create a pipeline\n",
    "\n",
    "The cell below creates a pipeline.tar.gz file containing the pipeline. You can upload it with the Kubeflow Pipeline UI or run it programmatically"
   ]
  },
  {
   "cell_type": "code",
   "execution_count": null,
   "metadata": {},
   "outputs": [],
   "source": [
    "import kfp\n",
    "import kfp.dsl as dsl\n",
    "import kfp.gcp as gcp\n",
    "\n",
    "CsvLibSVM = kfp.components.load_component_from_url('https://storage.googleapis.com/kf-pipeline-contrib-public/release-0.1.1/kfp-components/data_converter/csv_libsvm/component.yaml')\n",
    "\n",
    "@dsl.pipeline(name='Csv To Libsvm', description='One-Step pipeline')\n",
    "def csv_libsvm_pipeline(\n",
    "    input_file=dsl.PipelineParam(name=\"input-file\"),\n",
    "    output_file=dsl.PipelineParam(name=\"output-file\"),\n",
    "    label_name=dsl.PipelineParam(name=\"label-name\")):\n",
    "\n",
    "    csv_libsvm_op = CsvLibSVM(\n",
    "        input_file=input_file,\n",
    "        output_file=output_file,\n",
    "        label_name=label_name\n",
    "    ).apply(gcp.use_gcp_secret('user-gcp-sa'))\n",
    "\n",
    "kfp.compiler.Compiler().compile(csv_libsvm_pipeline, 'pipeline.tar.gz')"
   ]
  },
  {
   "cell_type": "markdown",
   "metadata": {},
   "source": [
    "## Run an experiment with your parameters programmatically\n",
    "\n",
    "This cell needs to be executed within the cluster."
   ]
  },
  {
   "cell_type": "code",
   "execution_count": null,
   "metadata": {},
   "outputs": [],
   "source": [
    "params = {\n",
    "    'input_file': 'gs://kf-pipeline-contrib-public/release-0.1.1/kfp-components/data_converter/csv_libsvm/data/test.csv',\n",
    "    'output_file': 'gs://CHANGE-TO-WRITABLE-LOCATION',\n",
    "    'label_name': 'label'\n",
    "}\n",
    "job_name = 'csv_libsvm_pipeline-job'\n",
    "experiment_name = 'csv_libsvm_pipeline-experiment'\n",
    "\n",
    "client = kfp.Client()\n",
    "exp = client.create_experiment(name=experiment_name)\n",
    "run = client.run_pipeline(exp.id, job_name, 'pipeline.tar.gz', params=params)"
   ]
  }
 ],
 "metadata": {
  "kernelspec": {
   "display_name": "Python 3",
   "language": "python",
   "name": "python3"
  },
  "language_info": {
   "codemirror_mode": {
    "name": "ipython",
    "version": 3
   },
   "file_extension": ".py",
   "mimetype": "text/x-python",
   "name": "python",
   "nbconvert_exporter": "python",
   "pygments_lexer": "ipython3",
   "version": "3.7.3"
  }
 },
 "nbformat": 4,
 "nbformat_minor": 2
}
